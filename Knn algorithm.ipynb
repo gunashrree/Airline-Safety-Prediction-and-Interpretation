{
 "cells": [
  {
   "cell_type": "code",
   "execution_count": 3,
   "id": "dcb0b257",
   "metadata": {},
   "outputs": [],
   "source": [
    "import numpy as np #Linear algera Library\n",
    "import pandas as pd\n",
    "import matplotlib.pyplot as plt #to plot graphs\n",
    "import seaborn as sns #to plot graphs\n",
    "sns.set() #setting seaborn as default \n",
    "import smote\n",
    "import warnings\n",
    "warnings.filterwarnings('ignore')"
   ]
  },
  {
   "cell_type": "code",
   "execution_count": 4,
   "id": "d4a9f708",
   "metadata": {},
   "outputs": [
    {
     "data": {
      "text/html": [
       "<div>\n",
       "<style scoped>\n",
       "    .dataframe tbody tr th:only-of-type {\n",
       "        vertical-align: middle;\n",
       "    }\n",
       "\n",
       "    .dataframe tbody tr th {\n",
       "        vertical-align: top;\n",
       "    }\n",
       "\n",
       "    .dataframe thead th {\n",
       "        text-align: right;\n",
       "    }\n",
       "</style>\n",
       "<table border=\"1\" class=\"dataframe\">\n",
       "  <thead>\n",
       "    <tr style=\"text-align: right;\">\n",
       "      <th></th>\n",
       "      <th>Airlines</th>\n",
       "      <th>incidents_1985-99</th>\n",
       "      <th>fatal_accidents_1985-99</th>\n",
       "      <th>incidents_2000-14</th>\n",
       "      <th>fatal_accidents_2000-14</th>\n",
       "      <th>Safety</th>\n",
       "    </tr>\n",
       "  </thead>\n",
       "  <tbody>\n",
       "    <tr>\n",
       "      <th>0</th>\n",
       "      <td>Aer Lingus</td>\n",
       "      <td>2</td>\n",
       "      <td>0</td>\n",
       "      <td>0</td>\n",
       "      <td>0</td>\n",
       "      <td>Yes</td>\n",
       "    </tr>\n",
       "    <tr>\n",
       "      <th>1</th>\n",
       "      <td>Aeroflot*</td>\n",
       "      <td>76</td>\n",
       "      <td>14</td>\n",
       "      <td>6</td>\n",
       "      <td>1</td>\n",
       "      <td>No</td>\n",
       "    </tr>\n",
       "    <tr>\n",
       "      <th>2</th>\n",
       "      <td>Aerolineas Argentinas</td>\n",
       "      <td>6</td>\n",
       "      <td>0</td>\n",
       "      <td>1</td>\n",
       "      <td>0</td>\n",
       "      <td>Yes</td>\n",
       "    </tr>\n",
       "    <tr>\n",
       "      <th>3</th>\n",
       "      <td>Aeromexico*</td>\n",
       "      <td>3</td>\n",
       "      <td>1</td>\n",
       "      <td>5</td>\n",
       "      <td>0</td>\n",
       "      <td>No</td>\n",
       "    </tr>\n",
       "    <tr>\n",
       "      <th>4</th>\n",
       "      <td>Air Canada</td>\n",
       "      <td>2</td>\n",
       "      <td>0</td>\n",
       "      <td>2</td>\n",
       "      <td>0</td>\n",
       "      <td>Yes</td>\n",
       "    </tr>\n",
       "  </tbody>\n",
       "</table>\n",
       "</div>"
      ],
      "text/plain": [
       "                Airlines  incidents_1985-99  fatal_accidents_1985-99  \\\n",
       "0             Aer Lingus                  2                        0   \n",
       "1              Aeroflot*                 76                       14   \n",
       "2  Aerolineas Argentinas                  6                        0   \n",
       "3            Aeromexico*                  3                        1   \n",
       "4             Air Canada                  2                        0   \n",
       "\n",
       "   incidents_2000-14  fatal_accidents_2000-14 Safety  \n",
       "0                  0                        0    Yes  \n",
       "1                  6                        1     No  \n",
       "2                  1                        0    Yes  \n",
       "3                  5                        0     No  \n",
       "4                  2                        0    Yes  "
      ]
     },
     "execution_count": 4,
     "metadata": {},
     "output_type": "execute_result"
    }
   ],
   "source": [
    "data=pd.read_csv(\"airline-safety1.csv\") \n",
    "data.head()"
   ]
  },
  {
   "cell_type": "code",
   "execution_count": 5,
   "id": "39f585bf",
   "metadata": {},
   "outputs": [
    {
     "data": {
      "text/plain": [
       "<bound method Series.unique of 0     Yes\n",
       "1      No\n",
       "2     Yes\n",
       "3      No\n",
       "4     Yes\n",
       "5      No\n",
       "6      No\n",
       "7     Yes\n",
       "8      No\n",
       "9      No\n",
       "10    Yes\n",
       "11     No\n",
       "12    Yes\n",
       "13     No\n",
       "14    Yes\n",
       "15    Yes\n",
       "16     No\n",
       "17    Yes\n",
       "18    Yes\n",
       "19     No\n",
       "20     No\n",
       "21    Yes\n",
       "22     No\n",
       "23    Yes\n",
       "24     No\n",
       "25     No\n",
       "26    Yes\n",
       "27     No\n",
       "28     No\n",
       "29     No\n",
       "30    Yes\n",
       "31     No\n",
       "32    Yes\n",
       "33    Yes\n",
       "34     No\n",
       "35     No\n",
       "36     No\n",
       "37    Yes\n",
       "38    Yes\n",
       "39     No\n",
       "40     No\n",
       "41     No\n",
       "42     No\n",
       "43    Yes\n",
       "44    Yes\n",
       "45     No\n",
       "46    Yes\n",
       "47     No\n",
       "48    Yes\n",
       "49     No\n",
       "50     No\n",
       "51     No\n",
       "52     No\n",
       "53     No\n",
       "54    Yes\n",
       "55     No\n",
       "Name: Safety, dtype: object>"
      ]
     },
     "execution_count": 5,
     "metadata": {},
     "output_type": "execute_result"
    }
   ],
   "source": [
    "data['Safety'].unique"
   ]
  },
  {
   "cell_type": "code",
   "execution_count": 6,
   "id": "44d9c8b2",
   "metadata": {},
   "outputs": [
    {
     "data": {
      "text/plain": [
       "<AxesSubplot:xlabel='Safety', ylabel='count'>"
      ]
     },
     "execution_count": 6,
     "metadata": {},
     "output_type": "execute_result"
    },
    {
     "data": {
      "image/png": "[encoded data removed]",
      "text/plain": [
       "<Figure size 720x360 with 1 Axes>"
      ]
     },
     "metadata": {},
     "output_type": "display_data"
    }
   ],
   "source": [
    "plt.figure(figsize=(10,5))\n",
    "sns.countplot(x='Safety',data=data)"
   ]
  },
  {
   "cell_type": "code",
   "execution_count": 8,
   "id": "bc5c8c97",
   "metadata": {},
   "outputs": [
    {
     "data": {
      "text/plain": [
       "Airlines                   0\n",
       "incidents_1985-99          0\n",
       "fatal_accidents_1985-99    0\n",
       "incidents_2000-14          0\n",
       "fatal_accidents_2000-14    0\n",
       "Safety                     0\n",
       "dtype: int64"
      ]
     },
     "execution_count": 8,
     "metadata": {},
     "output_type": "execute_result"
    }
   ],
   "source": [
    "data.isnull().sum()"
   ]
  },
  {
   "cell_type": "code",
   "execution_count": 7,
   "id": "c8822b5f",
   "metadata": {},
   "outputs": [
    {
     "data": {
      "text/plain": [
       "Index(['Airlines', 'incidents_1985-99', 'fatal_accidents_1985-99',\n",
       "       'incidents_2000-14', 'fatal_accidents_2000-14', 'Safety'],\n",
       "      dtype='object')"
      ]
     },
     "execution_count": 7,
     "metadata": {},
     "output_type": "execute_result"
    }
   ],
   "source": [
    "data.columns"
   ]
  },
  {
   "cell_type": "code",
   "execution_count": 8,
   "id": "0271556d",
   "metadata": {},
   "outputs": [],
   "source": [
    "x =data[['incidents_1985-99', 'fatal_accidents_1985-99','incidents_2000-14', \n",
    "'fatal_accidents_2000-14']]\n",
    "y =data[['Safety']]"
   ]
  },
  {
   "cell_type": "code",
   "execution_count": 9,
   "id": "be534a6f",
   "metadata": {},
   "outputs": [],
   "source": [
    "from sklearn.model_selection import train_test_split\n",
    "x_train, x_test, y_train, y_test = train_test_split(x, y, test_size=0.33, \n",
    "random_state=42)"
   ]
  },
  {
   "cell_type": "code",
   "execution_count": 10,
   "id": "38309e80",
   "metadata": {},
   "outputs": [],
   "source": [
    "from sklearn.neighbors import KNeighborsClassifier\n",
    "error_rate =[]\n",
    "for i in range(1,25):\n",
    " knn=KNeighborsClassifier(n_neighbors=i)\n",
    " knn.fit(x_train,y_train)\n",
    " pred_i=knn.predict(x_test)\n",
    " pred_i=pred_i.reshape(-1,1)\n",
    " error_rate.append(np.mean(pred_i != y_test))"
   ]
  },
  {
   "cell_type": "code",
   "execution_count": 11,
   "id": "f6308531",
   "metadata": {},
   "outputs": [
    {
     "data": {
      "text/plain": [
       "[<matplotlib.lines.Line2D at 0x29e7a772bb0>]"
      ]
     },
     "execution_count": 11,
     "metadata": {},
     "output_type": "execute_result"
    },
    {
     "data": {
      "image/png": "[encoded data removed]",
      "text/plain": [
       "<Figure size 720x360 with 1 Axes>"
      ]
     },
     "metadata": {},
     "output_type": "display_data"
    }
   ],
   "source": [
    "plt.figure(figsize=(10,5))\n",
    "plt.plot(range(1,25),error_rate)"
   ]
  },
  {
   "cell_type": "code",
   "execution_count": 12,
   "id": "7a480379",
   "metadata": {},
   "outputs": [
    {
     "data": {
      "text/plain": [
       "KNeighborsClassifier(n_neighbors=12)"
      ]
     },
     "execution_count": 12,
     "metadata": {},
     "output_type": "execute_result"
    }
   ],
   "source": [
    "knn=KNeighborsClassifier(n_neighbors=12)\n",
    "knn.fit(x_train,y_train)"
   ]
  },
  {
   "cell_type": "code",
   "execution_count": 15,
   "id": "404b32e2",
   "metadata": {},
   "outputs": [
    {
     "data": {
      "text/plain": [
       "array(['Yes', 'No', 'No', 'No', 'No', 'No', 'No', 'Yes', 'Yes', 'Yes',\n",
       "       'Yes', 'Yes', 'No', 'No', 'No', 'Yes', 'Yes', 'Yes', 'Yes'],\n",
       "      dtype=object)"
      ]
     },
     "execution_count": 15,
     "metadata": {},
     "output_type": "execute_result"
    }
   ],
   "source": [
    "predictions=knn.predict(x_test)\n",
    "predictions"
   ]
  },
  {
   "cell_type": "code",
   "execution_count": 16,
   "id": "b00e3c46",
   "metadata": {},
   "outputs": [
    {
     "name": "stdout",
     "output_type": "stream",
     "text": [
      "[[7 3]\n",
      " [2 7]]\n"
     ]
    }
   ],
   "source": [
    "from sklearn.metrics import classification_report,confusion_matrix\n",
    "print(confusion_matrix(y_test,predictions))"
   ]
  },
  {
   "cell_type": "code",
   "execution_count": 17,
   "id": "ebcbe87d",
   "metadata": {},
   "outputs": [
    {
     "name": "stdout",
     "output_type": "stream",
     "text": [
      "              precision    recall  f1-score   support\n",
      "\n",
      "          No       0.78      0.70      0.74        10\n",
      "         Yes       0.70      0.78      0.74         9\n",
      "\n",
      "    accuracy                           0.74        19\n",
      "   macro avg       0.74      0.74      0.74        19\n",
      "weighted avg       0.74      0.74      0.74        19\n",
      "\n"
     ]
    }
   ],
   "source": [
    "print(classification_report(y_test,predictions))"
   ]
  },
  {
   "cell_type": "code",
   "execution_count": null,
   "id": "671c17cf",
   "metadata": {},
   "outputs": [],
   "source": []
  }
 ],
 "metadata": {
  "kernelspec": {
   "display_name": "Python 3 (ipykernel)",
   "language": "python",
   "name": "python3"
  },
  "language_info": {
   "codemirror_mode": {
    "name": "ipython",
    "version": 3
   },
   "file_extension": ".py",
   "mimetype": "text/x-python",
   "name": "python",
   "nbconvert_exporter": "python",
   "pygments_lexer": "ipython3",
   "version": "3.8.10"
  }
 },
 "nbformat": 4,
 "nbformat_minor": 5
}
